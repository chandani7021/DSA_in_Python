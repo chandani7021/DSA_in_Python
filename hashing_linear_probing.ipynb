{
 "cells": [
  {
   "cell_type": "code",
   "execution_count": 85,
   "metadata": {},
   "outputs": [],
   "source": [
    "class Dictionary: \n",
    "\n",
    "    def __init__(self, size):\n",
    "        self.size = size\n",
    "        self.slots = [None] * self.size\n",
    "        self.data = [None] * self.size\n",
    "\n",
    "    # to put the key and value in array\n",
    "    def put(self, key, value):\n",
    "        # to do hashing of key\n",
    "        hash_value = self.hash_funtion(key)\n",
    "\n",
    "        #if slot is empty then add key on that slot and data on 2nd array\n",
    "        if self.slots[hash_value] == None:\n",
    "            self.slots[hash_value] = key\n",
    "            self.data[hash_value] = value\n",
    "        \n",
    "        else:\n",
    "            # if there is a key in slot then update value in data wala array\n",
    "            if self.slots[hash_value] == key:\n",
    "                self.data[hash_value] = value\n",
    "            else:\n",
    "                # otherwise rehash(do again hashing)\n",
    "                new_hash_value = self.rehash(hash_value)\n",
    "\n",
    "                # while new hash value is not none and at new hash value there is not the key for which we were hashing \n",
    "                while self.slots[new_hash_value] != None and self.slots[new_hash_value] != key:\n",
    "                    #then again do rehashing\n",
    "                    new_hash_value = self.rehash(new_hash_value)\n",
    "\n",
    "                #if new hash value index is empty then add key and add data in corresponding array of data\n",
    "                if self.slots[new_hash_value] == None:\n",
    "                    self.slots[new_hash_value] = key\n",
    "                    self.data[new_hash_value] = value\n",
    "                else:\n",
    "                    # if index is not empty then addkey on new hashed index\n",
    "                    self.data[new_hash_value] = value\n",
    "\n",
    "    # to ctach syntax\n",
    "    def __setitem__(self, key, value):\n",
    "        self.put(key, value)\n",
    "    \n",
    "\n",
    "    #get the key\n",
    "    def get(self, key):\n",
    "        start_position = self.hash_funtion(key)\n",
    "        current_position = start_position\n",
    "\n",
    "        while self.slots[current_position] != None:\n",
    "\n",
    "            if self.slots[current_position] == key:\n",
    "                return self.data[current_position]\n",
    "            \n",
    "            current_position = self.rehash(current_position)\n",
    "\n",
    "            if current_position == start_position:\n",
    "                return \"Not Found\"\n",
    "        \n",
    "        return \"None wala Not Found\"\n",
    "\n",
    "\n",
    "     #to print dictionary \n",
    "    def __str__(self):\n",
    "\n",
    "        for i in range(len(self.slots)):\n",
    "            if self.slots[i] != None:\n",
    "                print(self.slots[i], \":\", self.data[i], end=' ')\n",
    "        \n",
    "        return \" \"\n",
    "\n",
    "\n",
    "    #to rehash the key\n",
    "    def rehash(self, old_hash):\n",
    "        return(old_hash + 1)% self.size\n",
    "\n",
    "    # hashing of key\n",
    "    def hash_funtion(self, key):\n",
    "\n",
    "        return abs(hash(key)) % self.size"
   ]
  },
  {
   "cell_type": "code",
   "execution_count": 86,
   "metadata": {},
   "outputs": [
    {
     "data": {
      "text/plain": [
       "123"
      ]
     },
     "execution_count": 86,
     "metadata": {},
     "output_type": "execute_result"
    }
   ],
   "source": [
    "hash(123)"
   ]
  },
  {
   "cell_type": "code",
   "execution_count": 87,
   "metadata": {},
   "outputs": [
    {
     "data": {
      "text/plain": [
       "4559081657802831554"
      ]
     },
     "execution_count": 87,
     "metadata": {},
     "output_type": "execute_result"
    }
   ],
   "source": [
    "hash( \"Python\")"
   ]
  },
  {
   "cell_type": "code",
   "execution_count": 88,
   "metadata": {},
   "outputs": [],
   "source": [
    "D1 = Dictionary(3)"
   ]
  },
  {
   "cell_type": "code",
   "execution_count": 89,
   "metadata": {},
   "outputs": [
    {
     "name": "stdout",
     "output_type": "stream",
     "text": [
      "[None, None, None]\n",
      "[None, None, None]\n"
     ]
    }
   ],
   "source": [
    "print(D1.slots)\n",
    "print(D1.data)"
   ]
  },
  {
   "cell_type": "code",
   "execution_count": 90,
   "metadata": {},
   "outputs": [],
   "source": [
    "D1.put(\"python\", 100000)"
   ]
  },
  {
   "cell_type": "code",
   "execution_count": 91,
   "metadata": {},
   "outputs": [],
   "source": [
    "D1.put(\"java\", 45)"
   ]
  },
  {
   "cell_type": "code",
   "execution_count": 92,
   "metadata": {},
   "outputs": [],
   "source": [
    "D1.put(\"php\",48)"
   ]
  },
  {
   "cell_type": "code",
   "execution_count": 93,
   "metadata": {},
   "outputs": [
    {
     "data": {
      "text/plain": [
       "'Not Found'"
      ]
     },
     "execution_count": 93,
     "metadata": {},
     "output_type": "execute_result"
    }
   ],
   "source": [
    "D1.get(\"c\")"
   ]
  },
  {
   "cell_type": "code",
   "execution_count": 94,
   "metadata": {},
   "outputs": [
    {
     "name": "stdout",
     "output_type": "stream",
     "text": [
      "java : 45 php : 48 python : 100000  \n"
     ]
    }
   ],
   "source": [
    "print(D1)"
   ]
  }
 ],
 "metadata": {
  "kernelspec": {
   "display_name": "Python 3",
   "language": "python",
   "name": "python3"
  },
  "language_info": {
   "codemirror_mode": {
    "name": "ipython",
    "version": 3
   },
   "file_extension": ".py",
   "mimetype": "text/x-python",
   "name": "python",
   "nbconvert_exporter": "python",
   "pygments_lexer": "ipython3",
   "version": "3.11.2"
  },
  "orig_nbformat": 4
 },
 "nbformat": 4,
 "nbformat_minor": 2
}
