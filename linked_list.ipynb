{
 "cells": [
  {
   "cell_type": "code",
   "execution_count": 1,
   "metadata": {},
   "outputs": [],
   "source": [
    "#How to create individual node\n",
    "class Node:\n",
    "\n",
    "    def __init__(self, value):\n",
    "        self.data = value\n",
    "        self.next = None"
   ]
  },
  {
   "cell_type": "code",
   "execution_count": 2,
   "metadata": {},
   "outputs": [],
   "source": [
    "a = Node(1)\n",
    "b = Node(2)\n",
    "c = Node(3)"
   ]
  },
  {
   "cell_type": "code",
   "execution_count": 3,
   "metadata": {},
   "outputs": [
    {
     "name": "stdout",
     "output_type": "stream",
     "text": [
      "1\n"
     ]
    }
   ],
   "source": [
    "print(a.data)"
   ]
  },
  {
   "cell_type": "code",
   "execution_count": 4,
   "metadata": {},
   "outputs": [],
   "source": [
    "#How to connect them  to form linked list\n",
    "a.next = b\n",
    "b.next = c"
   ]
  },
  {
   "cell_type": "code",
   "execution_count": 5,
   "metadata": {},
   "outputs": [
    {
     "data": {
      "text/plain": [
       "1702955821392"
      ]
     },
     "execution_count": 5,
     "metadata": {},
     "output_type": "execute_result"
    }
   ],
   "source": [
    "id(b)"
   ]
  },
  {
   "cell_type": "code",
   "execution_count": 6,
   "metadata": {},
   "outputs": [
    {
     "name": "stdout",
     "output_type": "stream",
     "text": [
      "<__main__.Node object at 0x0000018C8013A950>\n"
     ]
    }
   ],
   "source": [
    "print(a.next)"
   ]
  },
  {
   "cell_type": "code",
   "execution_count": 7,
   "metadata": {},
   "outputs": [
    {
     "data": {
      "text/plain": [
       "1929781145296"
      ]
     },
     "execution_count": 7,
     "metadata": {},
     "output_type": "execute_result"
    }
   ],
   "source": [
    "int(0x000001C14FEB6ED0)"
   ]
  },
  {
   "attachments": {},
   "cell_type": "markdown",
   "metadata": {},
   "source": [
    "Linked list from here"
   ]
  },
  {
   "cell_type": "markdown",
   "metadata": {},
   "source": [
    "Main 4 operations of Linked list"
   ]
  },
  {
   "attachments": {},
   "cell_type": "markdown",
   "metadata": {},
   "source": [
    "1.Insert - head, tail(append), middle(after)\n"
   ]
  },
  {
   "attachments": {},
   "cell_type": "markdown",
   "metadata": {},
   "source": [
    "2.Traverse - print\n"
   ]
  },
  {
   "attachments": {},
   "cell_type": "markdown",
   "metadata": {},
   "source": [
    "3.Delete - clear(empty),head, tail(pop), value(remove), index(del l[0])\n"
   ]
  },
  {
   "attachments": {},
   "cell_type": "markdown",
   "metadata": {},
   "source": [
    "4.search - using value(find), index(indexing)"
   ]
  },
  {
   "cell_type": "code",
   "execution_count": 8,
   "metadata": {},
   "outputs": [],
   "source": [
    "\n",
    "class Node:\n",
    "\n",
    "    def __init__(self, value):\n",
    "        self.data = value\n",
    "        self.next = None"
   ]
  },
  {
   "cell_type": "code",
   "execution_count": 9,
   "metadata": {},
   "outputs": [],
   "source": [
    "# creating linked list class\n",
    "class LinkedList:\n",
    "    def __init__(self):\n",
    "\n",
    "        #creating Empty linked list(where there are 0 nodes)\n",
    "        # the head is none then linked list is empty\n",
    "        self.head = None\n",
    "        #no of nodes in the LL\n",
    "        self.n = 0\n",
    "\n",
    "    def __len__(self):\n",
    "        return self.n\n",
    "    \n",
    "    #insert from head\n",
    "    #logic - make function\n",
    "    #create new node\n",
    "    #create connection - store head address of head in new node next\n",
    "    #reassign head\n",
    "    def insert_head(self, value):\n",
    "        #new node\n",
    "        new_node = Node(value)\n",
    "        #create connection\n",
    "        new_node.next = self.head\n",
    "\n",
    "        #reassign head\n",
    "        self.head = new_node\n",
    "\n",
    "        #increment n\n",
    "        self.n = self.n + 1\n",
    "\n",
    "\n",
    "    #Traverse\n",
    "    #logic - make function \n",
    "    #assign current node to head node\n",
    "    # start loop while until current does not become none - print data of current\n",
    "    #then increment curent with current ka next\n",
    "    #def traverse(self):\n",
    "\n",
    "     #   curr = self.head\n",
    "      #  while curr != None:\n",
    "       #     print(curr.data)\n",
    "        #    curr = curr.next\n",
    "\n",
    "    #to do print of traverse\n",
    "    def __str__(self):\n",
    "\n",
    "        curr = self.head\n",
    "        result = ''\n",
    "        while curr != None:\n",
    "            result = result + str(curr.data) + '->'\n",
    "            curr = curr.next\n",
    "        return result[:-2]\n",
    "\n",
    "\n",
    "    # add(insert in linked list)\n",
    "    def add(self, value):\n",
    "        new_node = Node(value)\n",
    "\n",
    "        if self.head == None:\n",
    "            self.head = new_node\n",
    "        else:\n",
    "            temp = self.head\n",
    "\n",
    "            while temp.next != None:\n",
    "                temp = temp.next\n",
    "        \n",
    "        temp.next = new_node\n",
    "\n",
    "\n",
    "\n",
    "\n",
    "    #Insert from tail i.e append\n",
    "    #logic - traverse to last node\n",
    "    #set the next of tail node to new node\n",
    "    def append(self, value):\n",
    "        new_node = Node(value)\n",
    "        if self.head == None:\n",
    "            self.head = new_node\n",
    "            self.n = self.n + 1\n",
    "            return\n",
    "\n",
    "        curr = self.head\n",
    "\n",
    "        while curr.next != None:\n",
    "            curr = curr.next\n",
    "        \n",
    "        #you are at the last node\n",
    "        curr.next = new_node\n",
    "        self.n = self.n + 1\n",
    "\n",
    "    #Insert after( in middle)\n",
    "    #logic - traverse\n",
    "    # stop at after\n",
    "    # then assign new_node.next address to curr_node.next\n",
    "    #and curr_node.next add to new_node\n",
    "    def insert_after(self, after, value):\n",
    "        new_node = Node(value)\n",
    "\n",
    "        curr = self.head\n",
    "\n",
    "        while curr != None:\n",
    "            if curr.data == after:\n",
    "                break # heare the loop will break and stop at after\n",
    "            curr = curr.next\n",
    "\n",
    "        #case 1 if break -> i.e you have got item(after) and curr-> is not none\n",
    "        if curr != None:\n",
    "            #logic here\n",
    "            new_node.next = curr.next\n",
    "            curr.next = new_node\n",
    "            self.n = self.n + 1\n",
    "        else:\n",
    "        #case 2 Loop is executed completely -> i.e you have not got item -> i.e curr -> None\n",
    "            return 'Item not found'\n",
    "        \n",
    "    #delete - clear\n",
    "    def clear(self):\n",
    "        self.head = None\n",
    "        self.n = 0\n",
    "    \n",
    "    # delete from head \n",
    "    #logic - assign head.next as head\n",
    "    def delete_head(self):\n",
    "        if self.head == None:\n",
    "            return 'Empty Linked list'\n",
    "        \n",
    "        self.head = self.head.next\n",
    "        self.n = self.n - 1\n",
    "\n",
    "    #delete from tail(pop)\n",
    "    #logic - traverse\n",
    "    #stop at 2nd last node\n",
    "    #make second last node tail\n",
    "    def pop(self):\n",
    "        if self.head == None:\n",
    "            return 'Empty linked list'\n",
    "        \n",
    "        curr = self.head\n",
    "        #this logic will not work if LL has 1 item so do check\n",
    "        if curr.next == None:\n",
    "            #i.e head\n",
    "            return self.delete_head()\n",
    "      \n",
    "\n",
    "        while curr.next.next != None:\n",
    "            curr = curr.next\n",
    "\n",
    "        #curr -> 2nd last node\n",
    "        curr.next = None\n",
    "        self.n = self.n - 1\n",
    "\n",
    "    # delete by value(remove)\n",
    "    def remove(self, value):\n",
    "        #if list is Empty\n",
    "        if self.head == None:\n",
    "            return 'Empty linked list'\n",
    "        \n",
    "        #if want to remove head node\n",
    "        if self.head.data == value:\n",
    "            #you want to remove head node\n",
    "            return self.delete_head()\n",
    "        \n",
    "        curr = self.head\n",
    "\n",
    "        while curr.next != None:\n",
    "            if curr.next.data == value:\n",
    "                break\n",
    "            curr = curr.next\n",
    "\n",
    "        #2 cases\n",
    "        #1. ITem is not found\n",
    "        if curr.next == None:\n",
    "            return \"Value not found\"\n",
    "        \n",
    "        curr.next =  curr.next.next\n",
    "        self.n = self.n - 1\n",
    "\n",
    "\n",
    "\n",
    "    # search by value\n",
    "    def search(self, item):\n",
    "        curr = self.head\n",
    "        pos = 0\n",
    "\n",
    "        while curr != None:\n",
    "             if curr.data == item:\n",
    "                 return pos\n",
    "             curr = curr.next\n",
    "             pos = pos + 1\n",
    "        \n",
    "        return \"Not found\"\n",
    "    \n",
    "    #search by index\n",
    "    def __getitem__(self, index):\n",
    "\n",
    "        curr = self.head\n",
    "        pos = 0\n",
    "\n",
    "        while curr != None:\n",
    "            if pos == index:\n",
    "                  \n",
    "                return curr.data\n",
    "            curr = curr.next\n",
    "            pos = pos + 1\n",
    "            \n",
    "        return \"Index Error\"\n",
    "    \n",
    "\n",
    "\n",
    "\n",
    "\n",
    "##################################################################################\n",
    "#Some problems to solve\n",
    "\n",
    "    #1.Replace max value with given value\n",
    "\n",
    "    def replace_max(self, value):\n",
    "        temp = self.head\n",
    "        max = temp\n",
    "\n",
    "        while temp != None:\n",
    "            if temp.data > max.data:\n",
    "                max = temp\n",
    "            temp = temp.next\n",
    "            \n",
    "        max.data = value\n",
    "\n",
    "\n",
    "    #2. To sum the odd nodes\n",
    "    def sum_odd_nodes(self):\n",
    "        \n",
    "        temp = self.head\n",
    "        counter = 0 \n",
    "        result = 0\n",
    "\n",
    "        while temp != None:\n",
    "\n",
    "            if counter %2 != 0:\n",
    "                result = result + temp.data\n",
    "            \n",
    "            counter += 1\n",
    "            temp = temp.next\n",
    "\n",
    "        print(result)\n",
    "\n",
    "\n",
    "\n",
    "    #3. program to reverse linked list containing integer data\n",
    "    def reverse(self):\n",
    "        prev_node = None\n",
    "        curr_node =self.head\n",
    "\n",
    "        while curr_node != None:\n",
    "            next_node = curr_node.next  \n",
    "            curr_node.next = prev_node\n",
    "            prev_node = curr_node\n",
    "            curr_node = next_node\n",
    "            \n",
    "        self.head = prev_node\n",
    "\n",
    "\n",
    "    #4 replace * and / with space and \n",
    "    # if 2 are consecutive i.e * * or / / or * / the add space and capitalize next letter\n",
    "    def change_sent(self):\n",
    "         \n",
    "         temp = self.head\n",
    "\n",
    "         while temp != None:\n",
    "            if temp.data == '*' or temp.data == '/':\n",
    "                 temp.data = ' '\n",
    "\n",
    "                 if temp.next.data == '*' or temp.next.data == '/':\n",
    "                     temp.next.next.data = temp.next.next.data.upper()\n",
    "                     temp.next = temp.next.next\n",
    "            \n",
    "            temp = temp.next\n",
    "\n",
    "\n"
   ]
  },
  {
   "cell_type": "code",
   "execution_count": 29,
   "metadata": {},
   "outputs": [],
   "source": [
    "word_list = LinkedList()\n",
    "word_list.insert_head(\"T\")\n",
    "word_list.insert_head(\"T\")\n",
    "word_list.insert_head(\"T\")\n"
   ]
  },
  {
   "cell_type": "code",
   "execution_count": 32,
   "metadata": {},
   "outputs": [
    {
     "name": "stdout",
     "output_type": "stream",
     "text": [
      "T->T->T\n"
     ]
    }
   ],
   "source": [
    "print(word_list)"
   ]
  },
  {
   "cell_type": "code",
   "execution_count": 10,
   "metadata": {},
   "outputs": [],
   "source": [
    "L = LinkedList()"
   ]
  },
  {
   "cell_type": "code",
   "execution_count": 11,
   "metadata": {},
   "outputs": [
    {
     "name": "stdout",
     "output_type": "stream",
     "text": [
      "\n"
     ]
    }
   ],
   "source": [
    "\n",
    "print(L)"
   ]
  },
  {
   "attachments": {},
   "cell_type": "markdown",
   "metadata": {},
   "source": [
    "<__main__.LinkedList object at 0x000001C151999E10>\n",
    "This output came because we have not used __str__ magic function yet"
   ]
  },
  {
   "attachments": {},
   "cell_type": "markdown",
   "metadata": {},
   "source": [
    "Len - Length of linked list is number of nodes in a linked list."
   ]
  },
  {
   "cell_type": "code",
   "execution_count": 12,
   "metadata": {},
   "outputs": [
    {
     "data": {
      "text/plain": [
       "0"
      ]
     },
     "execution_count": 12,
     "metadata": {},
     "output_type": "execute_result"
    }
   ],
   "source": [
    "len(L)"
   ]
  },
  {
   "cell_type": "code",
   "execution_count": 13,
   "metadata": {},
   "outputs": [],
   "source": [
    "L.insert_head(1)\n",
    "L.insert_head(2)\n",
    "L.insert_head(3)\n",
    "L.insert_head(4)"
   ]
  },
  {
   "cell_type": "code",
   "execution_count": 14,
   "metadata": {},
   "outputs": [
    {
     "data": {
      "text/plain": [
       "4"
      ]
     },
     "execution_count": 14,
     "metadata": {},
     "output_type": "execute_result"
    }
   ],
   "source": [
    "len(L)"
   ]
  },
  {
   "cell_type": "code",
   "execution_count": 15,
   "metadata": {},
   "outputs": [],
   "source": [
    "L.insert_after(4,77)"
   ]
  },
  {
   "cell_type": "code",
   "execution_count": 16,
   "metadata": {},
   "outputs": [
    {
     "name": "stdout",
     "output_type": "stream",
     "text": [
      "4->77->3->2->1\n"
     ]
    }
   ],
   "source": [
    "print(L)"
   ]
  },
  {
   "cell_type": "code",
   "execution_count": 17,
   "metadata": {},
   "outputs": [],
   "source": [
    "L.reverse()"
   ]
  },
  {
   "cell_type": "code",
   "execution_count": 18,
   "metadata": {},
   "outputs": [],
   "source": [
    "L.replace_max(99)"
   ]
  },
  {
   "cell_type": "code",
   "execution_count": 19,
   "metadata": {},
   "outputs": [
    {
     "name": "stdout",
     "output_type": "stream",
     "text": [
      "101\n"
     ]
    }
   ],
   "source": [
    "L.sum_odd_nodes()"
   ]
  },
  {
   "cell_type": "code",
   "execution_count": 20,
   "metadata": {},
   "outputs": [
    {
     "data": {
      "text/plain": [
       "'Not found'"
      ]
     },
     "execution_count": 20,
     "metadata": {},
     "output_type": "execute_result"
    }
   ],
   "source": [
    "L.search(78)"
   ]
  },
  {
   "cell_type": "code",
   "execution_count": 21,
   "metadata": {},
   "outputs": [],
   "source": [
    "L.remove(4)"
   ]
  },
  {
   "cell_type": "code",
   "execution_count": 22,
   "metadata": {},
   "outputs": [
    {
     "data": {
      "text/plain": [
       "'Index Error'"
      ]
     },
     "execution_count": 22,
     "metadata": {},
     "output_type": "execute_result"
    }
   ],
   "source": [
    "L[7]"
   ]
  },
  {
   "cell_type": "code",
   "execution_count": 23,
   "metadata": {},
   "outputs": [
    {
     "name": "stdout",
     "output_type": "stream",
     "text": [
      "1->2->3->99\n"
     ]
    }
   ],
   "source": [
    "print(L)"
   ]
  },
  {
   "cell_type": "code",
   "execution_count": 24,
   "metadata": {},
   "outputs": [],
   "source": [
    "L.clear()"
   ]
  },
  {
   "cell_type": "code",
   "execution_count": 25,
   "metadata": {},
   "outputs": [
    {
     "data": {
      "text/plain": [
       "'Empty Linked list'"
      ]
     },
     "execution_count": 25,
     "metadata": {},
     "output_type": "execute_result"
    }
   ],
   "source": [
    "L.delete_head()"
   ]
  },
  {
   "cell_type": "code",
   "execution_count": 26,
   "metadata": {},
   "outputs": [
    {
     "data": {
      "text/plain": [
       "'Empty linked list'"
      ]
     },
     "execution_count": 26,
     "metadata": {},
     "output_type": "execute_result"
    }
   ],
   "source": [
    "L.pop()"
   ]
  },
  {
   "cell_type": "code",
   "execution_count": null,
   "metadata": {},
   "outputs": [],
   "source": []
  }
 ],
 "metadata": {
  "kernelspec": {
   "display_name": "Python 3",
   "language": "python",
   "name": "python3"
  },
  "language_info": {
   "codemirror_mode": {
    "name": "ipython",
    "version": 3
   },
   "file_extension": ".py",
   "mimetype": "text/x-python",
   "name": "python",
   "nbconvert_exporter": "python",
   "pygments_lexer": "ipython3",
   "version": "3.11.2"
  },
  "orig_nbformat": 4
 },
 "nbformat": 4,
 "nbformat_minor": 2
}
