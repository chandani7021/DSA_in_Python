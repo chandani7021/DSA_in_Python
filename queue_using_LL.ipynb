{
 "cells": [
  {
   "cell_type": "code",
   "execution_count": 2,
   "metadata": {},
   "outputs": [],
   "source": [
    "class Node:\n",
    "\n",
    "    def __init__(self, value):\n",
    "        self.data = value\n",
    "        self.next = None\n"
   ]
  },
  {
   "cell_type": "code",
   "execution_count": 20,
   "metadata": {},
   "outputs": [],
   "source": [
    "class Queue:\n",
    "\n",
    "    def __init__(self):\n",
    "        self.front = None\n",
    "        self.rear = None\n",
    "\n",
    "    # enqueue\n",
    "    def enqueue(self, value):\n",
    "\n",
    "        new_node = Node(value)\n",
    "\n",
    "        #check if queue is empty\n",
    "        if self.rear == None:\n",
    "            #if yes then assign new node the rear and front\n",
    "            self.front = new_node\n",
    "            self.rear = self.front\n",
    "        else:\n",
    "            # if no then assign new node to rear.next and make new node the rear node\n",
    "            self.rear.next  = new_node\n",
    "            self.rear = new_node\n",
    "\n",
    "    \n",
    "    #dequeue\n",
    "    def dequeue(self):\n",
    "\n",
    "        #check if queue is empty\n",
    "        if self.front == None:\n",
    "            return 'Empty'\n",
    "        else:\n",
    "            self.front = self.front.next\n",
    "\n",
    "    #traverse\n",
    "    def traverse(self):\n",
    "\n",
    "        temp = self.front\n",
    "\n",
    "        while temp != None:\n",
    "            print(temp.data, end=\" \")\n",
    "            temp = temp.next\n",
    "\n",
    "\n",
    "    # isEmpty\n",
    "    def isEmpty(self):\n",
    "        return self.front == None\n",
    "    \n",
    "    #size\n",
    "    def size(self):\n",
    "\n",
    "        temp = self.front\n",
    "        counter = 0\n",
    "\n",
    "        while temp != None:\n",
    "            counter +=1\n",
    "            temp = temp.next\n",
    "\n",
    "        return counter\n",
    "    \n",
    "    #front item\n",
    "    def front_item(self):\n",
    "        if self.front == None:\n",
    "            return \"Empty\"\n",
    "        else:\n",
    "            return self.front.data\n",
    "        \n",
    "    #rear item\n",
    "    def rear_item(self):\n",
    "        if self.front == None:\n",
    "            return \"Empty\"\n",
    "        else:\n",
    "            return self.rear.data\n",
    "    "
   ]
  },
  {
   "cell_type": "code",
   "execution_count": 21,
   "metadata": {},
   "outputs": [],
   "source": [
    "q = Queue()"
   ]
  },
  {
   "cell_type": "code",
   "execution_count": 27,
   "metadata": {},
   "outputs": [
    {
     "data": {
      "text/plain": [
       "False"
      ]
     },
     "execution_count": 27,
     "metadata": {},
     "output_type": "execute_result"
    }
   ],
   "source": [
    "q.isEmpty()"
   ]
  },
  {
   "cell_type": "code",
   "execution_count": 28,
   "metadata": {},
   "outputs": [
    {
     "data": {
      "text/plain": [
       "4"
      ]
     },
     "execution_count": 28,
     "metadata": {},
     "output_type": "execute_result"
    }
   ],
   "source": [
    "q.front_item()"
   ]
  },
  {
   "cell_type": "code",
   "execution_count": 29,
   "metadata": {},
   "outputs": [
    {
     "data": {
      "text/plain": [
       "7"
      ]
     },
     "execution_count": 29,
     "metadata": {},
     "output_type": "execute_result"
    }
   ],
   "source": [
    "q.rear_item()"
   ]
  },
  {
   "cell_type": "code",
   "execution_count": 25,
   "metadata": {},
   "outputs": [],
   "source": [
    "q.enqueue(4)\n",
    "q.enqueue(5)\n",
    "q.enqueue(7)\n"
   ]
  },
  {
   "cell_type": "code",
   "execution_count": 26,
   "metadata": {},
   "outputs": [
    {
     "name": "stdout",
     "output_type": "stream",
     "text": [
      "4 5 7 "
     ]
    }
   ],
   "source": [
    "q.traverse()"
   ]
  },
  {
   "cell_type": "code",
   "execution_count": 18,
   "metadata": {},
   "outputs": [
    {
     "data": {
      "text/plain": [
       "'Empty'"
      ]
     },
     "execution_count": 18,
     "metadata": {},
     "output_type": "execute_result"
    }
   ],
   "source": [
    "q.dequeue()"
   ]
  },
  {
   "cell_type": "code",
   "execution_count": 30,
   "metadata": {},
   "outputs": [
    {
     "ename": "SyntaxError",
     "evalue": "expected '(' (1599622034.py, line 1)",
     "output_type": "error",
     "traceback": [
      "\u001b[1;36m  Cell \u001b[1;32mIn[30], line 1\u001b[1;36m\u001b[0m\n\u001b[1;33m    def stack\u001b[0m\n\u001b[1;37m             ^\u001b[0m\n\u001b[1;31mSyntaxError\u001b[0m\u001b[1;31m:\u001b[0m expected '('\n"
     ]
    }
   ],
   "source": []
  },
  {
   "cell_type": "code",
   "execution_count": null,
   "metadata": {},
   "outputs": [],
   "source": []
  }
 ],
 "metadata": {
  "kernelspec": {
   "display_name": "Python 3",
   "language": "python",
   "name": "python3"
  },
  "language_info": {
   "codemirror_mode": {
    "name": "ipython",
    "version": 3
   },
   "file_extension": ".py",
   "mimetype": "text/x-python",
   "name": "python",
   "nbconvert_exporter": "python",
   "pygments_lexer": "ipython3",
   "version": "3.11.2"
  },
  "orig_nbformat": 4
 },
 "nbformat": 4,
 "nbformat_minor": 2
}
