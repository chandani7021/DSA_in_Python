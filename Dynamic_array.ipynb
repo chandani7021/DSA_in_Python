{
 "cells": [
  {
   "attachments": {},
   "cell_type": "markdown",
   "metadata": {},
   "source": [
    "Dynamic array:-\n",
    "Create list\n",
    "make array\n",
    "len\n",
    "append\n",
    "print\n",
    "indexing\n",
    "pop\n",
    "clear\n",
    "find\n",
    "insert\n",
    "delete\n",
    "remove\n"
   ]
  },
  {
   "attachments": {},
   "cell_type": "markdown",
   "metadata": {},
   "source": [
    "Do on your own : sort/ min/ max/sum/ \n",
    "extend,\n",
    "negative indexing,\n",
    "slicing,\n",
    "merge"
   ]
  },
  {
   "cell_type": "code",
   "execution_count": 204,
   "metadata": {},
   "outputs": [],
   "source": [
    "## all this __--__ are magic methods"
   ]
  },
  {
   "cell_type": "code",
   "execution_count": 205,
   "metadata": {},
   "outputs": [],
   "source": [
    "#ctypes is foreign function librery in python.\n",
    "#It provides C compatible datatypes and allowes calling functions in DLLS or shared libraries.\n",
    "#It can be used to wrap these libraries in pure python.\n",
    "import ctypes"
   ]
  },
  {
   "cell_type": "code",
   "execution_count": 283,
   "metadata": {},
   "outputs": [],
   "source": [
    "#create list\n",
    "class MyList:\n",
    "\n",
    "    def __init__(self):\n",
    "        self.size = 1 #the size of array\n",
    "        self.n = 0      # filled places in array\n",
    "        #creat a ctype array with size = self.size\n",
    "        self.A =  self.__make_array(self.size ) #will give an array\n",
    "        \n",
    "    #create len\n",
    "    def __len__(self):\n",
    "        return self.n\n",
    "    \n",
    "    #to print array\n",
    "    #[1,2,3]\n",
    "    def __str__(self):\n",
    "        result = ''\n",
    "        for i in range(self.n):\n",
    "            result = result + str(self.A[i]) + ','\n",
    "        #it will print array with , in last ex- [ 1,2,3,] so to not aded , \n",
    "        # in last we can slice it by [:-1]this will not print the last element.\n",
    "        return '[' + result[:-1] + ']'\n",
    "    \n",
    "\n",
    "    #indexing\n",
    "    def __getitem__(self, index):\n",
    "        if 0<= index <= self.n:\n",
    "            return self.A[index]\n",
    "        else:\n",
    "            return 'IndexError - Index out of range'\n",
    "        \n",
    "     \n",
    "\n",
    "\n",
    "    #append\n",
    "    #Logic-\n",
    "        # first check if array is vacant or not\n",
    "        #if yes then append thew item\n",
    "        #if no then resize the array \n",
    "        #and then append item\n",
    "\n",
    "    #create append method\n",
    "    def append(self,item):\n",
    "        if self.n == self.size:\n",
    "            #resize\n",
    "            self.__resize(self.size*2)\n",
    "        #append\n",
    "        self.A[self.n] = item\n",
    "        self.n = self.n + 1\n",
    "\n",
    "    #pop\n",
    "    #Logic - \n",
    "    #if array is empty then return empty list\n",
    "    #if not then print the last ele which is n-1(counting with 0) place\n",
    "    # and decrement n \n",
    "    # ex. - n= 4(counting with 1)\n",
    "    # then do n = 4-1 = 3\n",
    "    # then we will traverse only to 3 and 4th will be ignored\n",
    "    def pop(self):\n",
    "        if self.n == 0 :\n",
    "            return 'Empty List'\n",
    "        print(self.A[self.n - 1])\n",
    "        self.n = self.n-1\n",
    "\n",
    "    #clear\n",
    "    #logic \n",
    "    #initiate the start point again by assigning size to 1 and n to 0\n",
    "    def clear(self):\n",
    "        self.n = 0\n",
    "        self.size = 1\n",
    "\n",
    "\n",
    "    #find \n",
    "    # logic - start loop from o to n-1 and ask if the element is there or not\n",
    "    #if yes then break the loop and return the index/ or position of the element\n",
    "    def find(self, item):\n",
    "        for i in range(self.n):\n",
    "            if self.A[i] == item:\n",
    "                return i\n",
    "        return 'ValueError - not in list'\n",
    "\n",
    "    #resize\n",
    "    def __resize(self, new_capacity):\n",
    "        #create a new array with new capacity\n",
    "        B = self.__make_array(new_capacity)\n",
    "        self.size = new_capacity\n",
    "\n",
    "        #copy content of array A to new array B\n",
    "        for i in range(self.n):\n",
    "            B[i] = self.A[i]\n",
    "        \n",
    "        #reassign A\n",
    "        self.A = B\n",
    "\n",
    "\n",
    "    #delete\n",
    "    def __delitem__(self, pos):\n",
    "        if 0<=pos < self.n:\n",
    "            for i in range(pos, self.n-1):\n",
    "                self.A[i] = self.A[i+1]\n",
    "            \n",
    "            self.n = self.n -1\n",
    "\n",
    "\n",
    "    #inserting \n",
    "    # logic:-  check if space is there or not \n",
    "    # if no do resize(call resize method)\n",
    "    #if yes then do shifting backword from n to pos+1\n",
    "    #then paste your item\n",
    "    def insert(self, pos, item):\n",
    "        if self.n == self.size:\n",
    "            self.__resize(self.size*2)\n",
    "        \n",
    "        for i in range(self.n,pos, -1):\n",
    "            self.A[i] = self.A[i-1]\n",
    "\n",
    "        self.A[pos] = item\n",
    "        self.n= self.n +1\n",
    "\n",
    "\n",
    "    #remove\n",
    "    #using find and delete method that i have created\n",
    "    #logic - start loop to search index position of element\n",
    "    # then do normal deletion\n",
    "    def remove(self, item):\n",
    "        pos = self.find(item)\n",
    "        #at pos int or string can be there acc to find method \n",
    "        #if ele is found then int if not found then string(ValueError)\n",
    "        if type(pos) == int:\n",
    "            #delete\n",
    "            self.__delitem__(pos)\n",
    "        else:\n",
    "            return pos\n",
    "\n",
    "\n",
    "\n",
    "\n",
    "    def __make_array(self, capacity):\n",
    "        #creates a c type array(static, referential array) with size capacity\n",
    "        return(capacity*ctypes.py_object)()"
   ]
  },
  {
   "cell_type": "code",
   "execution_count": 284,
   "metadata": {},
   "outputs": [],
   "source": [
    "L = MyList()"
   ]
  },
  {
   "cell_type": "code",
   "execution_count": 285,
   "metadata": {},
   "outputs": [
    {
     "name": "stdout",
     "output_type": "stream",
     "text": [
      "[]\n"
     ]
    }
   ],
   "source": [
    "print(L) # will give address"
   ]
  },
  {
   "cell_type": "code",
   "execution_count": 286,
   "metadata": {},
   "outputs": [
    {
     "data": {
      "text/plain": [
       "0"
      ]
     },
     "execution_count": 286,
     "metadata": {},
     "output_type": "execute_result"
    }
   ],
   "source": [
    "len(L)"
   ]
  },
  {
   "cell_type": "code",
   "execution_count": 287,
   "metadata": {},
   "outputs": [],
   "source": [
    "\n",
    "L.append(\"Hello\")\n",
    "L.append(3)\n",
    "L.append(True)\n",
    "L.append(\"again\")"
   ]
  },
  {
   "cell_type": "code",
   "execution_count": 288,
   "metadata": {},
   "outputs": [
    {
     "data": {
      "text/plain": [
       "4"
      ]
     },
     "execution_count": 288,
     "metadata": {},
     "output_type": "execute_result"
    }
   ],
   "source": [
    "len(L)"
   ]
  },
  {
   "cell_type": "code",
   "execution_count": 289,
   "metadata": {},
   "outputs": [
    {
     "name": "stdout",
     "output_type": "stream",
     "text": [
      "[Hello,3,True,again]\n"
     ]
    }
   ],
   "source": [
    "print(L)"
   ]
  },
  {
   "cell_type": "code",
   "execution_count": 290,
   "metadata": {},
   "outputs": [],
   "source": [
    "L.insert(0,0)"
   ]
  },
  {
   "cell_type": "code",
   "execution_count": 291,
   "metadata": {},
   "outputs": [],
   "source": [
    "del L[3]"
   ]
  },
  {
   "cell_type": "code",
   "execution_count": 295,
   "metadata": {},
   "outputs": [],
   "source": [
    "L.remove('Hello')"
   ]
  },
  {
   "cell_type": "code",
   "execution_count": 296,
   "metadata": {},
   "outputs": [
    {
     "name": "stdout",
     "output_type": "stream",
     "text": [
      "[0,again]\n"
     ]
    }
   ],
   "source": [
    "print(L)"
   ]
  },
  {
   "cell_type": "code",
   "execution_count": 254,
   "metadata": {},
   "outputs": [
    {
     "ename": "ValueError",
     "evalue": "PyObject is NULL",
     "output_type": "error",
     "traceback": [
      "\u001b[1;31m---------------------------------------------------------------------------\u001b[0m",
      "\u001b[1;31mValueError\u001b[0m                                Traceback (most recent call last)",
      "Cell \u001b[1;32mIn[254], line 1\u001b[0m\n\u001b[1;32m----> 1\u001b[0m L[\u001b[39m5\u001b[39;49m]\n",
      "Cell \u001b[1;32mIn[244], line 28\u001b[0m, in \u001b[0;36mMyList.__getitem__\u001b[1;34m(self, index)\u001b[0m\n\u001b[0;32m     26\u001b[0m \u001b[39mdef\u001b[39;00m \u001b[39m__getitem__\u001b[39m(\u001b[39mself\u001b[39m, index):\n\u001b[0;32m     27\u001b[0m     \u001b[39mif\u001b[39;00m \u001b[39m0\u001b[39m\u001b[39m<\u001b[39m\u001b[39m=\u001b[39m index \u001b[39m<\u001b[39m\u001b[39m=\u001b[39m \u001b[39mself\u001b[39m\u001b[39m.\u001b[39mn:\n\u001b[1;32m---> 28\u001b[0m         \u001b[39mreturn\u001b[39;00m \u001b[39mself\u001b[39;49m\u001b[39m.\u001b[39;49mA[index]\n\u001b[0;32m     29\u001b[0m     \u001b[39melse\u001b[39;00m:\n\u001b[0;32m     30\u001b[0m         \u001b[39mreturn\u001b[39;00m \u001b[39m'\u001b[39m\u001b[39mIndexError - Index out of range\u001b[39m\u001b[39m'\u001b[39m\n",
      "\u001b[1;31mValueError\u001b[0m: PyObject is NULL"
     ]
    }
   ],
   "source": [
    "L[5]\n"
   ]
  },
  {
   "cell_type": "code",
   "execution_count": 214,
   "metadata": {},
   "outputs": [
    {
     "name": "stdout",
     "output_type": "stream",
     "text": [
      "again\n"
     ]
    }
   ],
   "source": [
    "L.pop()"
   ]
  },
  {
   "cell_type": "code",
   "execution_count": 215,
   "metadata": {},
   "outputs": [
    {
     "name": "stdout",
     "output_type": "stream",
     "text": [
      "[Hello,3,True]\n"
     ]
    }
   ],
   "source": [
    "print(L)"
   ]
  },
  {
   "cell_type": "code",
   "execution_count": 216,
   "metadata": {},
   "outputs": [
    {
     "data": {
      "text/plain": [
       "2"
      ]
     },
     "execution_count": 216,
     "metadata": {},
     "output_type": "execute_result"
    }
   ],
   "source": [
    "L.find(True)"
   ]
  },
  {
   "cell_type": "code",
   "execution_count": 217,
   "metadata": {},
   "outputs": [],
   "source": [
    "L.clear()"
   ]
  },
  {
   "cell_type": "code",
   "execution_count": 218,
   "metadata": {},
   "outputs": [
    {
     "name": "stdout",
     "output_type": "stream",
     "text": [
      "[]\n"
     ]
    }
   ],
   "source": [
    "print(L)"
   ]
  },
  {
   "cell_type": "code",
   "execution_count": null,
   "metadata": {},
   "outputs": [],
   "source": []
  },
  {
   "cell_type": "code",
   "execution_count": null,
   "metadata": {},
   "outputs": [],
   "source": []
  },
  {
   "cell_type": "code",
   "execution_count": null,
   "metadata": {},
   "outputs": [],
   "source": []
  },
  {
   "cell_type": "code",
   "execution_count": null,
   "metadata": {},
   "outputs": [],
   "source": []
  },
  {
   "cell_type": "code",
   "execution_count": null,
   "metadata": {},
   "outputs": [],
   "source": []
  },
  {
   "cell_type": "code",
   "execution_count": null,
   "metadata": {},
   "outputs": [],
   "source": []
  },
  {
   "cell_type": "code",
   "execution_count": 231,
   "metadata": {},
   "outputs": [],
   "source": [
    "L = [10,20,30]"
   ]
  },
  {
   "cell_type": "code",
   "execution_count": 232,
   "metadata": {},
   "outputs": [
    {
     "data": {
      "text/plain": [
       "[10, 15, 20, 30]"
      ]
     },
     "execution_count": 232,
     "metadata": {},
     "output_type": "execute_result"
    }
   ],
   "source": [
    "L.insert(1,15)\n",
    "L"
   ]
  },
  {
   "cell_type": "code",
   "execution_count": 220,
   "metadata": {},
   "outputs": [
    {
     "data": {
      "text/plain": [
       "1"
      ]
     },
     "execution_count": 220,
     "metadata": {},
     "output_type": "execute_result"
    }
   ],
   "source": [
    "L.index(20)"
   ]
  },
  {
   "cell_type": "code",
   "execution_count": 221,
   "metadata": {},
   "outputs": [
    {
     "data": {
      "text/plain": [
       "30"
      ]
     },
     "execution_count": 221,
     "metadata": {},
     "output_type": "execute_result"
    }
   ],
   "source": [
    "L.pop()"
   ]
  },
  {
   "cell_type": "code",
   "execution_count": 222,
   "metadata": {},
   "outputs": [
    {
     "data": {
      "text/plain": [
       "[10, 20]"
      ]
     },
     "execution_count": 222,
     "metadata": {},
     "output_type": "execute_result"
    }
   ],
   "source": [
    "L"
   ]
  },
  {
   "cell_type": "code",
   "execution_count": 223,
   "metadata": {},
   "outputs": [],
   "source": [
    "L.clear()"
   ]
  },
  {
   "cell_type": "code",
   "execution_count": 224,
   "metadata": {},
   "outputs": [
    {
     "data": {
      "text/plain": [
       "[]"
      ]
     },
     "execution_count": 224,
     "metadata": {},
     "output_type": "execute_result"
    }
   ],
   "source": [
    "L"
   ]
  },
  {
   "cell_type": "code",
   "execution_count": null,
   "metadata": {},
   "outputs": [],
   "source": []
  },
  {
   "cell_type": "code",
   "execution_count": null,
   "metadata": {},
   "outputs": [],
   "source": []
  }
 ],
 "metadata": {
  "kernelspec": {
   "display_name": "Python 3",
   "language": "python",
   "name": "python3"
  },
  "language_info": {
   "codemirror_mode": {
    "name": "ipython",
    "version": 3
   },
   "file_extension": ".py",
   "mimetype": "text/x-python",
   "name": "python",
   "nbconvert_exporter": "python",
   "pygments_lexer": "ipython3",
   "version": "3.11.2"
  },
  "orig_nbformat": 4
 },
 "nbformat": 4,
 "nbformat_minor": 2
}
