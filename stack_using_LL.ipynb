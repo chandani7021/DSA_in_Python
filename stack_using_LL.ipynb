{
 "cells": [
  {
   "cell_type": "code",
   "execution_count": 3,
   "metadata": {},
   "outputs": [],
   "source": [
    "class Node:\n",
    "\n",
    "    def __init__(self, value):\n",
    "        self.data = value \n",
    "        self.next = None"
   ]
  },
  {
   "attachments": {},
   "cell_type": "markdown",
   "metadata": {},
   "source": [
    "Stack has 4 operations\n"
   ]
  },
  {
   "attachments": {},
   "cell_type": "markdown",
   "metadata": {},
   "source": [
    "1.isEmpty"
   ]
  },
  {
   "attachments": {},
   "cell_type": "markdown",
   "metadata": {},
   "source": [
    "2. push"
   ]
  },
  {
   "attachments": {},
   "cell_type": "markdown",
   "metadata": {},
   "source": [
    "3. pop"
   ]
  },
  {
   "attachments": {},
   "cell_type": "markdown",
   "metadata": {},
   "source": [
    "4. size"
   ]
  },
  {
   "cell_type": "code",
   "execution_count": 4,
   "metadata": {},
   "outputs": [],
   "source": [
    "class Stack:\n",
    "\n",
    "    def __init__(self):\n",
    "        self.top = None\n",
    "    \n",
    "    # isEmpty operation\n",
    "    def isEmpty(self):\n",
    "        return self.top == None\n",
    "    \n",
    "\n",
    "    # push operation\n",
    "    def push(self, value):\n",
    "\n",
    "        new_node = Node(value)\n",
    "\n",
    "        new_node.next = self.top\n",
    "\n",
    "        self.top = new_node\n",
    "\n",
    "\n",
    "    # traverse\n",
    "    def traverse(self):\n",
    "        temp = self.top\n",
    "\n",
    "        while temp != None:\n",
    "            print(temp.data)\n",
    "            temp = temp.next\n",
    "\n",
    "\n",
    "    # peek - Will return the value at top (see)\n",
    "    def peek(self):\n",
    "        if self.top == None:\n",
    "            return \"Stack Empty\"\n",
    "        else:\n",
    "            return self.top.data\n",
    "        \n",
    "\n",
    "    #pop\n",
    "    def pop(self):\n",
    "        if self.top == None:\n",
    "            return \"Stack Empty\"\n",
    "        else:\n",
    "            data = self.top.data\n",
    "            self.top =  self.top.next\n",
    "            return data\n",
    " \n",
    "    #size\n",
    "    def size(self):\n",
    "        temp = self.top\n",
    "        counter = 0\n",
    "\n",
    "        while temp != None:\n",
    "            temp = temp.next\n",
    "            counter+=1\n",
    "        return counter"
   ]
  },
  {
   "cell_type": "code",
   "execution_count": 5,
   "metadata": {},
   "outputs": [],
   "source": [
    "# string reversal using stack\n"
   ]
  },
  {
   "cell_type": "code",
   "execution_count": 6,
   "metadata": {},
   "outputs": [],
   "source": [
    "s = Stack()"
   ]
  },
  {
   "cell_type": "code",
   "execution_count": 7,
   "metadata": {},
   "outputs": [
    {
     "data": {
      "text/plain": [
       "True"
      ]
     },
     "execution_count": 7,
     "metadata": {},
     "output_type": "execute_result"
    }
   ],
   "source": [
    "s.isEmpty()"
   ]
  },
  {
   "cell_type": "code",
   "execution_count": 8,
   "metadata": {},
   "outputs": [],
   "source": [
    "s.push(2)"
   ]
  },
  {
   "cell_type": "code",
   "execution_count": 9,
   "metadata": {},
   "outputs": [
    {
     "data": {
      "text/plain": [
       "False"
      ]
     },
     "execution_count": 9,
     "metadata": {},
     "output_type": "execute_result"
    }
   ],
   "source": [
    "s.isEmpty()"
   ]
  },
  {
   "cell_type": "code",
   "execution_count": 10,
   "metadata": {},
   "outputs": [],
   "source": [
    "s.push(4)\n",
    "s.push(8)\n",
    "s.push(7)"
   ]
  },
  {
   "cell_type": "code",
   "execution_count": 11,
   "metadata": {},
   "outputs": [
    {
     "name": "stdout",
     "output_type": "stream",
     "text": [
      "7\n",
      "8\n",
      "4\n",
      "2\n"
     ]
    }
   ],
   "source": [
    "s.traverse()"
   ]
  },
  {
   "cell_type": "code",
   "execution_count": 12,
   "metadata": {},
   "outputs": [
    {
     "data": {
      "text/plain": [
       "7"
      ]
     },
     "execution_count": 12,
     "metadata": {},
     "output_type": "execute_result"
    }
   ],
   "source": [
    "s.peek()"
   ]
  },
  {
   "cell_type": "code",
   "execution_count": 13,
   "metadata": {},
   "outputs": [
    {
     "data": {
      "text/plain": [
       "7"
      ]
     },
     "execution_count": 13,
     "metadata": {},
     "output_type": "execute_result"
    }
   ],
   "source": [
    "s.pop()"
   ]
  },
  {
   "cell_type": "code",
   "execution_count": 14,
   "metadata": {},
   "outputs": [],
   "source": [
    "def reverse_string(text):\n",
    "    s = Stack()\n",
    "\n",
    "    for i in text:\n",
    "        s.push(i)\n",
    "\n",
    "    res = \" \"\n",
    "\n",
    "    while(not s.isEmpty()):\n",
    "        res = res + s.pop()\n",
    "    \n",
    "    print(res)"
   ]
  },
  {
   "cell_type": "code",
   "execution_count": 15,
   "metadata": {},
   "outputs": [
    {
     "name": "stdout",
     "output_type": "stream",
     "text": [
      " olleH\n"
     ]
    }
   ],
   "source": [
    "reverse_string(\"Hello\")"
   ]
  },
  {
   "cell_type": "code",
   "execution_count": 16,
   "metadata": {},
   "outputs": [],
   "source": [
    "#text editor\n",
    "\n",
    "def tex_editor(text, pattern):\n",
    "\n",
    "    u = Stack()\n",
    "    r = Stack()\n",
    "\n",
    "    for i in(text):\n",
    "        u.push(i)\n",
    "    \n",
    "    for i in pattern:\n",
    "        if i == 'u':\n",
    "            data = u.pop()\n",
    "            r.push(data)\n",
    "        else:\n",
    "            data = r.pop()\n",
    "            u.push(data)\n",
    "\n",
    "    res = \" \"\n",
    "\n",
    "    while( not u.isEmpty()):\n",
    "        res = u.pop() + res\n",
    "\n",
    "    print(res)\n"
   ]
  },
  {
   "cell_type": "code",
   "execution_count": 17,
   "metadata": {},
   "outputs": [
    {
     "name": "stdout",
     "output_type": "stream",
     "text": [
      "Mumb \n"
     ]
    }
   ],
   "source": [
    "tex_editor('Mumbai',\"uuuurr\")"
   ]
  },
  {
   "cell_type": "code",
   "execution_count": 18,
   "metadata": {},
   "outputs": [],
   "source": [
    "L = [\n",
    "    [0,0,1,1],\n",
    "    [0,0,1,0],\n",
    "    [1,0,0,0],\n",
    "    [0,0,1,0]\n",
    "]"
   ]
  },
  {
   "cell_type": "code",
   "execution_count": 19,
   "metadata": {},
   "outputs": [],
   "source": [
    "def find_the_celeb(L):\n",
    "\n",
    "    s = Stack()\n",
    "\n",
    "    for i in range(len(L)):\n",
    "        s.push(i)\n",
    "\n",
    "    while s.size() >= 2:\n",
    "\n",
    "        i = s.pop()\n",
    "        j = s.pop()\n",
    "\n",
    "    if L[i][j] == 0:\n",
    "        #j is not celebrity\n",
    "        s.push(i)\n",
    "    else:\n",
    "        #i is not celebrity\n",
    "        s.push(j)\n",
    "\n",
    "    celeb = s.pop()\n",
    "\n",
    "    for i in range(len(L)):\n",
    "\n",
    "        if i != celeb:\n",
    "            if L[i][celeb] == 0 or L[celeb][i] ==1:\n",
    "                print(\"No one is celebrity\")\n",
    "                return\n",
    "            \n",
    "    print(\"The celebrity is\", celeb)"
   ]
  },
  {
   "cell_type": "code",
   "execution_count": 20,
   "metadata": {},
   "outputs": [
    {
     "name": "stdout",
     "output_type": "stream",
     "text": [
      "No one is celebrity\n"
     ]
    }
   ],
   "source": [
    "find_the_celeb(L)"
   ]
  },
  {
   "cell_type": "code",
   "execution_count": 21,
   "metadata": {},
   "outputs": [],
   "source": [
    "#balanced paranthesis\n",
    "def brackets(expr):\n",
    "\n",
    "  s = Stack()\n",
    "\n",
    "  for i in expr:\n",
    "\n",
    "    if i == '(':\n",
    "      s.push(i)\n",
    "    elif i == ')':\n",
    "      if s.peek() == '(':\n",
    "        s.pop()\n",
    "      else:\n",
    "        print(\"Imbalanced\")\n",
    "        return \n",
    "\n",
    "  if (s.is_empty()):\n",
    "    print(\"Balanced\")\n",
    "  else:\n",
    "    print(\"Imbalanced\")"
   ]
  },
  {
   "cell_type": "code",
   "execution_count": 24,
   "metadata": {},
   "outputs": [],
   "source": [
    "a = Stack()\n",
    "b = Stack()"
   ]
  },
  {
   "cell_type": "code",
   "execution_count": 33,
   "metadata": {},
   "outputs": [],
   "source": [
    "def stack_enqueue(value):\n",
    "    a.push(value)\n",
    "    a.traverse\n",
    "\n",
    "\n",
    "def stack_dequeue():\n",
    "\n",
    "    if b != None:\n",
    "        b.pop()\n",
    "    else:\n",
    "        if a == None:\n",
    "            print('Empty queue')\n",
    "        else:\n",
    "            while(a != None):\n",
    "                data = a.pop()\n",
    "                b.push(data)\n",
    "                \n",
    "            print = b.pop()\n",
    "            \n"
   ]
  },
  {
   "cell_type": "code",
   "execution_count": 34,
   "metadata": {},
   "outputs": [],
   "source": [
    "stack_enqueue(5)\n",
    "stack_enqueue(6)\n",
    "stack_enqueue(7)"
   ]
  },
  {
   "cell_type": "code",
   "execution_count": 30,
   "metadata": {},
   "outputs": [],
   "source": [
    "stack_dequeue()"
   ]
  },
  {
   "cell_type": "code",
   "execution_count": null,
   "metadata": {},
   "outputs": [],
   "source": []
  },
  {
   "cell_type": "code",
   "execution_count": null,
   "metadata": {},
   "outputs": [],
   "source": []
  },
  {
   "cell_type": "code",
   "execution_count": null,
   "metadata": {},
   "outputs": [],
   "source": []
  }
 ],
 "metadata": {
  "kernelspec": {
   "display_name": "Python 3",
   "language": "python",
   "name": "python3"
  },
  "language_info": {
   "codemirror_mode": {
    "name": "ipython",
    "version": 3
   },
   "file_extension": ".py",
   "mimetype": "text/x-python",
   "name": "python",
   "nbconvert_exporter": "python",
   "pygments_lexer": "ipython3",
   "version": "3.11.2"
  },
  "orig_nbformat": 4
 },
 "nbformat": 4,
 "nbformat_minor": 2
}
