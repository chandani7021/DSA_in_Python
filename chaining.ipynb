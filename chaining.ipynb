{
 "cells": [
  {
   "cell_type": "code",
   "execution_count": 216,
   "metadata": {},
   "outputs": [],
   "source": [
    "#for chaining the node will be little different from LL node\n",
    "\n",
    "class Node:\n",
    "\n",
    "    def __init__(self, key, value):\n",
    "        self.key = key\n",
    "        self.value = value\n",
    "        self.next = None"
   ]
  },
  {
   "cell_type": "code",
   "execution_count": 217,
   "metadata": {},
   "outputs": [],
   "source": [
    "# creating linked list class\n",
    "class LinkedList:\n",
    "    def __init__(self):\n",
    "\n",
    "        #creating Empty linked list(where there are 0 nodes)\n",
    "        # the head is none then linked list is empty\n",
    "        self.head = None\n",
    "\n",
    "    #Traverse\n",
    "    #logic - make function \n",
    "    #assign current node to head node\n",
    "    # start loop while until current does not become none - print data of current\n",
    "    #then increment curent with current ka next\n",
    "    #def traverse(self):\n",
    "\n",
    "     #   curr = self.head\n",
    "      #  while curr != None:\n",
    "       #     print(curr.data)\n",
    "        #    curr = curr.next\n",
    "\n",
    "    #to do print of traverse\n",
    "    #def __str__(self):\n",
    "\n",
    "     #   curr = self.head\n",
    "      #  result = ''\n",
    "       # while curr != None:\n",
    "        #    result = result + str(curr.data) + '->'\n",
    "         #   curr = curr.next\n",
    "        #return result[:-2]\n",
    "\n",
    "    def traverse(self):\n",
    "\n",
    "        temp = self.head\n",
    "\n",
    "        while temp != None:\n",
    "\n",
    "            print(temp.key, \":\", temp.value,\" \", end=\" \")\n",
    "            temp = temp.next\n",
    "\n",
    "\n",
    "\n",
    "    # add(insert in linked list)\n",
    "    def add(self, key, value):\n",
    "        new_node = Node(key, value)\n",
    "\n",
    "        if self.head == None:\n",
    "            self.head = new_node\n",
    "        else:\n",
    "            temp = self.head\n",
    "\n",
    "            while temp.next != None:\n",
    "                temp = temp.next\n",
    "        \n",
    "            temp.next = new_node\n",
    "\n",
    "\n",
    "\n",
    "\n",
    "    #Insert from tail i.e append\n",
    "    #logic - traverse to last node\n",
    "    #set the next of tail node to new node\n",
    "    def append(self, value):\n",
    "        new_node = Node(value)\n",
    "        if self.head == None:\n",
    "            self.head = new_node\n",
    "            self.n = self.n + 1\n",
    "            return\n",
    "\n",
    "        curr = self.head\n",
    "\n",
    "        while curr.next != None:\n",
    "            curr = curr.next\n",
    "        \n",
    "        #you are at the last node\n",
    "        curr.next = new_node\n",
    "        self.n = self.n + 1\n",
    "\n",
    "    #Insert after( in middle)\n",
    "    #logic - traverse\n",
    "    # stop at after\n",
    "    # then assign new_node.next address to curr_node.next\n",
    "    #and curr_node.next add to new_node\n",
    "    def insert_after(self, after, value):\n",
    "        new_node = Node(value)\n",
    "\n",
    "        curr = self.head\n",
    "\n",
    "        while curr != None:\n",
    "            if curr.data == after:\n",
    "                break # heare the loop will break and stop at after\n",
    "            curr = curr.next\n",
    "\n",
    "        #case 1 if break -> i.e you have got item(after) and curr-> is not none\n",
    "        if curr != None:\n",
    "            #logic here\n",
    "            new_node.next = curr.next\n",
    "            curr.next = new_node\n",
    "            self.n = self.n + 1\n",
    "        else:\n",
    "        #case 2 Loop is executed completely -> i.e you have not got item -> i.e curr -> None\n",
    "            return 'Item not found'\n",
    "        \n",
    "    #delete - clear\n",
    "    def clear(self):\n",
    "        self.head = None\n",
    "        self.n = 0\n",
    "    \n",
    "    # delete from head \n",
    "    #logic - assign head.next as head\n",
    "    def delete_head(self):\n",
    "        if self.head == None:\n",
    "            return 'Empty Linked list'\n",
    "        \n",
    "        self.head = self.head.next\n",
    "        self.n = self.n - 1\n",
    "\n",
    "\n",
    "    def size(self):\n",
    "\n",
    "        temp = self.head\n",
    "        counter = 0\n",
    "\n",
    "        while temp != None:\n",
    "\n",
    "            counter += 1\n",
    "            temp = temp.next\n",
    "\n",
    "        return counter\n",
    "\n",
    "    # delete from head \n",
    "    #logic - assign head.next as head\n",
    "    def delete_head(self):\n",
    "        if self.head == None:\n",
    "            return 'Empty Linked list'\n",
    "        \n",
    "        self.head = self.head.next\n",
    "       \n",
    "\n",
    "    # delete by value(remove)\n",
    "    def remove(self, key):\n",
    "        #if list is Empty\n",
    "        if self.head == None:\n",
    "            return 'Empty linked list'\n",
    "        \n",
    "        #if want to remove head node\n",
    "        if self.head.key == key:\n",
    "            #you want to remove head node\n",
    "            return self.delete_head()\n",
    "        \n",
    "        curr = self.head\n",
    "\n",
    "        while curr.next != None:\n",
    "            if curr.next.key == key:\n",
    "                break\n",
    "            curr = curr.next\n",
    "\n",
    "        #2 cases\n",
    "        #1. ITem is not found\n",
    "        if curr.next == None:\n",
    "            return \"Value not found\"\n",
    "        \n",
    "        curr.next =  curr.next.next\n",
    "        self.n = self.n - 1\n",
    "\n",
    "\n",
    "\n",
    "    # search by value\n",
    "    def search(self,key):\n",
    "        curr = self.head\n",
    "        pos = 0\n",
    "\n",
    "        while curr != None:\n",
    "             if curr.key == key:\n",
    "                 return pos\n",
    "             curr = curr.next\n",
    "             pos = pos + 1\n",
    "        \n",
    "        return -1\n",
    "    \n",
    "    #search by index\n",
    "    def __getitem__(self, index):\n",
    "\n",
    "        curr = self.head\n",
    "        pos = 0\n",
    "\n",
    "        while curr != None:\n",
    "            if pos == index:\n",
    "                  \n",
    "                return curr.data\n",
    "            curr = curr.next\n",
    "            pos = pos + 1\n",
    "            \n",
    "        return \"Index Error\"\n",
    "\n",
    "\n",
    "    def get_node_at_index(self, index):\n",
    "\n",
    "        temp = self.head\n",
    "        counter = 0\n",
    "\n",
    "        while temp != None:\n",
    "\n",
    "            if counter == index:\n",
    "                return temp\n",
    "            temp = temp.next\n",
    "            counter += 1\n",
    "\n"
   ]
  },
  {
   "cell_type": "code",
   "execution_count": 218,
   "metadata": {},
   "outputs": [],
   "source": [
    "class Dictionary:\n",
    "\n",
    "    def __init__(self, capacity):\n",
    "        #capacity of array\n",
    "        self.capacity = capacity\n",
    "        #size of array\n",
    "        self.size = 0\n",
    "\n",
    "        #create array of LL\n",
    "        self.buckets = self.make_array(self.capacity)\n",
    "\n",
    "    #to make array of desired size and append LL in each index of array\n",
    "    def make_array(self,capacity):\n",
    "\n",
    "        L =[]\n",
    "        for i in range(capacity):\n",
    "            L.append(LinkedList())\n",
    "        return L\n",
    "    \n",
    "\n",
    "    #set item\n",
    "    def __setitem__(self, key, value):\n",
    "        self.put(key, value)\n",
    "    \n",
    "\n",
    "    #get item\n",
    "    def __getitem__(self, key):\n",
    "        return self.get(key)\n",
    "    \n",
    "\n",
    "    #delete item\n",
    "    def __delitem__(self, key):\n",
    "        #decide where the key can be stored in array using its bucket index\n",
    "        #hash value of key is stores in bucket index(for LL)\n",
    "        bucket_index = self.hash_function(key)\n",
    "\n",
    "        # go inside that bucket and remove key\n",
    "        res = self.buckets[bucket_index].remove(key)\n",
    "        self.size -= 1\n",
    "\n",
    "    #traverse\n",
    "    #logic - apply loop on whole array\n",
    "    # i value will be 1st index's linked list - then holding that i call traverse function\n",
    "    # then go to next index of array now this will be i and same procedure and so onnn.\n",
    "\n",
    "    def __str__(self):\n",
    "\n",
    "        for i in self.buckets:\n",
    "            i.traverse()\n",
    "        #in __str__ you have to return a string(Rule)\n",
    "        return \" \"\n",
    "\n",
    "\n",
    "    #length\n",
    "    def __len__(self):\n",
    "        return self.size\n",
    "\n",
    "\n",
    "    #get which is to be used in get item function\n",
    "    def get(self, key):\n",
    "        #decide where the key can be stored in array using its bucket index\n",
    "        #hash value of key is stores in bucket index(for LL)\n",
    "        bucket_index = self.hash_function(key)\n",
    "\n",
    "        # go inside that bucket and search key\n",
    "        # it will either give the key or return -1\n",
    "        res = self.buckets[bucket_index].search(key)\n",
    "\n",
    "\n",
    "        # key is not in the bucket i.e.\n",
    "        if res == -1:\n",
    "            return \"Not present\"\n",
    "        else:\n",
    "            #print the value of that key\n",
    "            node = self.buckets[bucket_index].get_node_at_index(res)\n",
    "            return node.value\n",
    "\n",
    "\n",
    "\n",
    "    # to put the key and its value in the array of LL\n",
    "    def put(self, key, value):\n",
    "        \n",
    "        #hash value of key is stores in bucket index(for LL)\n",
    "        bucket_index = self.hash_function(key)\n",
    "\n",
    "        # i.e in buckets we can add many keys to get the index of the particular key we are using get_node_index function\n",
    "        node_index= self.get_node_index(bucket_index, key)\n",
    "\n",
    "\n",
    "        #if key is not present and node index is -1\n",
    "        if node_index == -1:\n",
    "            #insert the key\n",
    "            self.buckets [bucket_index].add(key,value)\n",
    "            self.size += 1\n",
    "\n",
    "\n",
    "            # if many nodes are going at same index then time complexity becomes n from o(1) \n",
    "            # thatswhy do rehashing to reduce time complexity to log n which is better then o(n)\n",
    "\n",
    "            load_factor = self.size/self.capacity\n",
    "            print(load_factor)\n",
    "            \n",
    "            if (load_factor >= 2):\n",
    "                self.rehash()\n",
    "\n",
    "        else:\n",
    "            #update the value of key\n",
    "            node = self.buckets[bucket_index].get_node_at_index(node_index)\n",
    "            node.value = value\n",
    "            \n",
    "\n",
    "    #doing rehashing\n",
    "    def rehash(self):\n",
    "        #double the capacity\n",
    "        self.capacity = self.capacity*2\n",
    "        old_buckets = self.buckets\n",
    "        self.size = 0\n",
    "        self.buckets = self.make_array(self.capacity)\n",
    "\n",
    "        #to take value from old bucket rehash it and store it in new bucket.\n",
    "        #you need to use 2 loops\n",
    "        #1 for searching in old bucket in array(horizontally in array)\n",
    "        for i in old_buckets:\n",
    "\n",
    "            #2. for searching element in range of old bucket(LL-vertically in 1 index position of array)\n",
    "            for j in range(i.size()):\n",
    "                \n",
    "                # we are touching/fetching node(key) by get_node_at_index and storing it in node and getting the value of that particular node(key)\n",
    "                node = i.get_node_at_index(j)\n",
    "                key_item = node.key\n",
    "                value_item = node.value\n",
    "\n",
    "                self.put(key_item, value_item)\n",
    "        \n",
    "\n",
    "    # to get the index of node\n",
    "    def get_node_index(self,bucket_index, key):\n",
    "\n",
    "        #to get the index of a key which is in bucket(LL-hashing-chaining) we will search the bucket\n",
    "        node_index = self.buckets[bucket_index].search(key)\n",
    "\n",
    "        return node_index\n",
    "\n",
    "    #hashing the key\n",
    "    def hash_function(self, key):\n",
    "        return abs(hash(key)) % self.capacity\n",
    "\n",
    "    \n",
    "\n"
   ]
  },
  {
   "cell_type": "code",
   "execution_count": 219,
   "metadata": {},
   "outputs": [],
   "source": [
    "L = LinkedList()"
   ]
  },
  {
   "cell_type": "code",
   "execution_count": 220,
   "metadata": {},
   "outputs": [],
   "source": [
    "L.add(2,3)\n",
    "L.add(4,7)\n",
    "L.add(6,5)"
   ]
  },
  {
   "cell_type": "code",
   "execution_count": 221,
   "metadata": {},
   "outputs": [
    {
     "name": "stdout",
     "output_type": "stream",
     "text": [
      "2 : 3   4 : 7   6 : 5   "
     ]
    }
   ],
   "source": [
    "L.traverse()"
   ]
  },
  {
   "cell_type": "code",
   "execution_count": 222,
   "metadata": {},
   "outputs": [
    {
     "data": {
      "text/plain": [
       "4"
      ]
     },
     "execution_count": 222,
     "metadata": {},
     "output_type": "execute_result"
    }
   ],
   "source": [
    "L.get_node_at_index(1).key"
   ]
  },
  {
   "cell_type": "code",
   "execution_count": 223,
   "metadata": {},
   "outputs": [],
   "source": [
    "D1 = Dictionary(4)"
   ]
  },
  {
   "cell_type": "code",
   "execution_count": 224,
   "metadata": {},
   "outputs": [
    {
     "name": "stdout",
     "output_type": "stream",
     "text": [
      "0.25\n",
      "0.5\n",
      "0.75\n",
      "1.0\n",
      "1.25\n",
      "1.5\n",
      "1.75\n",
      "2.0\n",
      "0.125\n",
      "0.25\n",
      "0.375\n",
      "0.5\n",
      "0.625\n",
      "0.75\n",
      "0.875\n",
      "1.0\n"
     ]
    }
   ],
   "source": [
    "D1.put(\"python\", 100)\n",
    "D1.put(\"php\", 10)\n",
    "D1.put(\"C\", 50)\n",
    "D1.put(\"JavaScript\", 77)\n",
    "D1.put(\"SQL\", 55)\n",
    "D1.put(\"java\", 11)\n",
    "D1.put(\"node.js\", 11)\n",
    "D1.put(\"mongo\", 11)"
   ]
  },
  {
   "cell_type": "code",
   "execution_count": 225,
   "metadata": {},
   "outputs": [
    {
     "data": {
      "text/plain": [
       "[<__main__.LinkedList at 0x2070f4517d0>,\n",
       " <__main__.LinkedList at 0x2070f453ed0>,\n",
       " <__main__.LinkedList at 0x2070f453350>,\n",
       " <__main__.LinkedList at 0x2070f452c90>,\n",
       " <__main__.LinkedList at 0x2070f451650>,\n",
       " <__main__.LinkedList at 0x2070f453d10>,\n",
       " <__main__.LinkedList at 0x2070f453710>,\n",
       " <__main__.LinkedList at 0x2070f453890>]"
      ]
     },
     "execution_count": 225,
     "metadata": {},
     "output_type": "execute_result"
    }
   ],
   "source": [
    "D1.buckets"
   ]
  },
  {
   "cell_type": "code",
   "execution_count": 226,
   "metadata": {},
   "outputs": [
    {
     "name": "stdout",
     "output_type": "stream",
     "text": [
      "SQL : 55   "
     ]
    }
   ],
   "source": [
    "D1.buckets[0].traverse()"
   ]
  },
  {
   "cell_type": "code",
   "execution_count": 227,
   "metadata": {},
   "outputs": [],
   "source": [
    "D1[\"python\"] = 75"
   ]
  },
  {
   "cell_type": "code",
   "execution_count": 228,
   "metadata": {},
   "outputs": [
    {
     "data": {
      "text/plain": [
       "50"
      ]
     },
     "execution_count": 228,
     "metadata": {},
     "output_type": "execute_result"
    }
   ],
   "source": [
    "D1[\"C\"]"
   ]
  },
  {
   "cell_type": "code",
   "execution_count": 229,
   "metadata": {},
   "outputs": [],
   "source": [
    "del D1[\"C\"]"
   ]
  },
  {
   "cell_type": "code",
   "execution_count": 230,
   "metadata": {},
   "outputs": [
    {
     "name": "stdout",
     "output_type": "stream",
     "text": [
      "SQL : 55   JavaScript : 77   node.js : 11   mongo : 11   php : 10   java : 11   python : 75    \n"
     ]
    }
   ],
   "source": [
    "print(D1)"
   ]
  },
  {
   "cell_type": "code",
   "execution_count": 231,
   "metadata": {},
   "outputs": [
    {
     "data": {
      "text/plain": [
       "7"
      ]
     },
     "execution_count": 231,
     "metadata": {},
     "output_type": "execute_result"
    }
   ],
   "source": [
    "len(D1)"
   ]
  },
  {
   "cell_type": "code",
   "execution_count": null,
   "metadata": {},
   "outputs": [],
   "source": []
  }
 ],
 "metadata": {
  "kernelspec": {
   "display_name": "Python 3",
   "language": "python",
   "name": "python3"
  },
  "language_info": {
   "codemirror_mode": {
    "name": "ipython",
    "version": 3
   },
   "file_extension": ".py",
   "mimetype": "text/x-python",
   "name": "python",
   "nbconvert_exporter": "python",
   "pygments_lexer": "ipython3",
   "version": "3.11.2"
  },
  "orig_nbformat": 4
 },
 "nbformat": 4,
 "nbformat_minor": 2
}
