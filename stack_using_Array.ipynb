{
 "cells": [
  {
   "cell_type": "code",
   "execution_count": 42,
   "metadata": {},
   "outputs": [],
   "source": [
    "# in array you have to specify the zise of an array\n",
    "\n",
    "class Stack:\n",
    "\n",
    "     def __init__(self, size):\n",
    "          self.size = size\n",
    "          self.stack = [None] * self.size\n",
    "          self.top = -1\n",
    "\n",
    "     #push\n",
    "     def push(self, value):\n",
    "\n",
    "          if self.top == self.size -1:\n",
    "               return \"overflow\"\n",
    "          else:\n",
    "               self.top+=1\n",
    "               self.stack[self.top] = value\n",
    "\n",
    "     #pop\n",
    "     def pop(self):\n",
    "          \n",
    "          if self.top == -1:\n",
    "               return \"Empty\"\n",
    "          else:\n",
    "               data = self.stack[self.top]\n",
    "               self.top -= 1\n",
    "               print(data)\n",
    "\n",
    "     def traverse(self):\n",
    "\n",
    "          for i in range(self.top+1):\n",
    "               print(self.stack[i], end = ' ')\n"
   ]
  },
  {
   "cell_type": "code",
   "execution_count": 43,
   "metadata": {},
   "outputs": [],
   "source": [
    "s = Stack(3)"
   ]
  },
  {
   "cell_type": "code",
   "execution_count": 44,
   "metadata": {},
   "outputs": [],
   "source": [
    "s.push(7)\n",
    "s.push(5)\n",
    "s.push(3)"
   ]
  },
  {
   "cell_type": "code",
   "execution_count": 45,
   "metadata": {},
   "outputs": [
    {
     "data": {
      "text/plain": [
       "[7, 5, 3]"
      ]
     },
     "execution_count": 45,
     "metadata": {},
     "output_type": "execute_result"
    }
   ],
   "source": [
    "s.stack"
   ]
  },
  {
   "cell_type": "code",
   "execution_count": 52,
   "metadata": {},
   "outputs": [
    {
     "data": {
      "text/plain": [
       "'Empty'"
      ]
     },
     "execution_count": 52,
     "metadata": {},
     "output_type": "execute_result"
    }
   ],
   "source": [
    "s.pop()"
   ]
  },
  {
   "cell_type": "code",
   "execution_count": 55,
   "metadata": {},
   "outputs": [
    {
     "name": "stdout",
     "output_type": "stream",
     "text": [
      "5 "
     ]
    }
   ],
   "source": [
    "s.traverse()"
   ]
  },
  {
   "cell_type": "code",
   "execution_count": 54,
   "metadata": {},
   "outputs": [],
   "source": [
    "s.push(5)"
   ]
  },
  {
   "cell_type": "code",
   "execution_count": null,
   "metadata": {},
   "outputs": [],
   "source": []
  }
 ],
 "metadata": {
  "kernelspec": {
   "display_name": "Python 3",
   "language": "python",
   "name": "python3"
  },
  "language_info": {
   "codemirror_mode": {
    "name": "ipython",
    "version": 3
   },
   "file_extension": ".py",
   "mimetype": "text/x-python",
   "name": "python",
   "nbconvert_exporter": "python",
   "pygments_lexer": "ipython3",
   "version": "3.11.2"
  },
  "orig_nbformat": 4
 },
 "nbformat": 4,
 "nbformat_minor": 2
}
